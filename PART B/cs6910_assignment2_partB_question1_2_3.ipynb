{
  "cells": [
    {
      "cell_type": "markdown",
      "metadata": {
        "id": "view-in-github",
        "colab_type": "text"
      },
      "source": [
        "<a href=\"https://colab.research.google.com/github/mak109/cs6910_assignment2/blob/main/PART%20B/cs6910_assignment2_partB_question1_2_3.ipynb\" target=\"_parent\"><img src=\"https://colab.research.google.com/assets/colab-badge.svg\" alt=\"Open In Colab\"/></a>"
      ]
    },
    {
      "cell_type": "markdown",
      "id": "e29e87fc",
      "metadata": {
        "id": "e29e87fc"
      },
      "source": [
        "# Loading and Fine-tuning pretrained Models"
      ]
    },
    {
      "cell_type": "code",
      "execution_count": null,
      "id": "8b4cbe4a",
      "metadata": {
        "scrolled": false,
        "id": "8b4cbe4a"
      },
      "outputs": [],
      "source": [
        "!pip install wget"
      ]
    },
    {
      "cell_type": "code",
      "execution_count": null,
      "id": "57958201",
      "metadata": {
        "scrolled": true,
        "id": "57958201"
      },
      "outputs": [],
      "source": [
        "!pip install wandb -qqq\n",
        "import wandb\n",
        "wandb.login()"
      ]
    },
    {
      "cell_type": "code",
      "execution_count": null,
      "id": "a21c9ef3",
      "metadata": {
        "id": "a21c9ef3"
      },
      "outputs": [],
      "source": [
        "from wandb.keras import WandbCallback"
      ]
    },
    {
      "cell_type": "code",
      "execution_count": null,
      "id": "c739a581",
      "metadata": {
        "id": "c739a581"
      },
      "outputs": [],
      "source": [
        "%matplotlib inline\n",
        "%config InlineBackend.figure_format = 'retina'\n",
        "import matplotlib.pyplot as plt\n",
        "import numpy as np\n",
        "import random\n",
        "import wget\n",
        "import os\n",
        "from zipfile import ZipFile\n",
        "from PIL import Image\n",
        "from matplotlib import gridspec\n",
        "plt.rcParams[\"figure.figsize\"] = (20,10)"
      ]
    },
    {
      "cell_type": "code",
      "execution_count": null,
      "id": "fe89a953",
      "metadata": {
        "id": "fe89a953"
      },
      "outputs": [],
      "source": [
        "import tensorflow as tf\n",
        "from tensorflow import keras\n",
        "from tensorflow.keras import layers,Sequential,regularizers,optimizers\n",
        "from tensorflow.keras.preprocessing.image import ImageDataGenerator\n",
        "from tensorflow.keras.applications import * \n",
        "import random\n",
        "random.seed(123)"
      ]
    },
    {
      "cell_type": "code",
      "execution_count": null,
      "id": "7b44f191",
      "metadata": {
        "id": "7b44f191"
      },
      "outputs": [],
      "source": [
        "import wget\n",
        "import os\n",
        "from inspect import *\n",
        "from zipfile import ZipFile\n",
        "url='https://storage.googleapis.com/wandb_datasets/nature_12K.zip'\n",
        "filename = os.path.basename(url)\n",
        "\n",
        "if not os.path.exists(filename) and not os.path.exists(\"inaturalist_12K\"):\n",
        "  filename = wget.download(url)\n",
        "  with ZipFile(filename, 'r') as zip:\n",
        "    print('Extracting all the files now...')\n",
        "    zip.extractall()\n",
        "    print('Done!')\n",
        "  os.remove(filename)\n",
        "train_dir = 'inaturalist_12K/train'\n",
        "test_dir = 'inaturalist_12K/val'"
      ]
    },
    {
      "cell_type": "code",
      "execution_count": null,
      "id": "fa298523",
      "metadata": {
        "id": "fa298523"
      },
      "outputs": [],
      "source": [
        "image_size = (256,256)\n",
        "num_classes = 10"
      ]
    },
    {
      "cell_type": "code",
      "execution_count": null,
      "id": "47ad59e2",
      "metadata": {
        "id": "47ad59e2"
      },
      "outputs": [],
      "source": [
        "#Creating dictionary of models based on imagenet \n",
        "model_list = dict()\n",
        "for key,value in getmembers(tf.keras.applications,isfunction):\n",
        "    model_list[key] = value"
      ]
    },
    {
      "cell_type": "code",
      "execution_count": null,
      "id": "94dd721d",
      "metadata": {
        "id": "94dd721d"
      },
      "outputs": [],
      "source": [
        "def CNN(config):\n",
        "    base_model = model_list[config['model']](input_shape=image_size +(3,),include_top=False,weights='imagenet')\n",
        "    base_model.trainable = True #this is important\n",
        "    if(len(base_model.layers) > config['fine_tune_last']):\n",
        "        for layer in base_model.layers[:-config['fine_tune_last']]:\n",
        "            layer.trainable = False    \n",
        "    global_average_layer = layers.GlobalAveragePooling2D()\n",
        "    prediction_layer = layers.Dense(num_classes,activation='softmax')\n",
        "    inputs = layers.Input((image_size[0],image_size[1],3))\n",
        "    input_rescale=layers.Rescaling(1./255)(inputs)\n",
        "    x = base_model(input_rescale)    \n",
        "    x = global_average_layer(x)\n",
        "    x = layers.Dropout(config['dropout'])(x)\n",
        "    outputs = prediction_layer(x)\n",
        "    model = keras.Model(inputs,outputs)\n",
        "    return model"
      ]
    },
    {
      "cell_type": "code",
      "execution_count": null,
      "id": "2531c39f",
      "metadata": {
        "id": "2531c39f"
      },
      "outputs": [],
      "source": [
        "def train():\n",
        "    config_ = {\n",
        "    \"model\": 'InceptionV3',\n",
        "    \"learning_rate\": 1e-4,\n",
        "    \"data_augment\": \"True\",\n",
        "    \"dropout\":0.2,\n",
        "    \"batch_size\":32,\n",
        "    \"fine_tune_last\":20,\n",
        "    \"epochs\":3\n",
        "    }\n",
        "    val_generator = ImageDataGenerator(dtype=tf.float32,validation_split=0.1,data_format='channels_last').flow_from_directory(\n",
        "        train_dir,\n",
        "        target_size = image_size,\n",
        "        batch_size = config['batch_size'],\n",
        "        color_mode = 'rgb',\n",
        "        class_mode = 'sparse',\n",
        "        shuffle=True,\n",
        "        subset='validation',\n",
        "        seed=123\n",
        "    \n",
        "    )\n",
        "    #Data Augmentation\n",
        "    if config[\"data_augment\"] == 'True':\n",
        "        data_generator = ImageDataGenerator(\n",
        "        rotation_range=50, #random rotation between -50(clockwise) to 50(anti-clockwise) degree\n",
        "        brightness_range=(0.2,0.8), \n",
        "        zoom_range=0.3, #zoom in range from [0.7,1.3]\n",
        "        horizontal_flip=True,\n",
        "        vertical_flip=True,\n",
        "        width_shift_range=0.1, #Horizontal Shifting as a ratio of width\n",
        "        height_shift_range=0.2,#Vertical Shifting as a ratio of height\n",
        "        data_format='channels_last',\n",
        "        validation_split=0.1,\n",
        "        dtype=tf.float32\n",
        "        )\n",
        "    else:\n",
        "        data_generator = ImageDataGenerator(\n",
        "            data_format='channels_last',\n",
        "            validation_split=0.1,\n",
        "            dtype=tf.float32\n",
        "        )\n",
        "    #Train set creation after conditional augmentation\n",
        "    train_generator = data_generator.flow_from_directory(\n",
        "    train_dir,\n",
        "    target_size = image_size,\n",
        "    batch_size = config['batch_size'],\n",
        "    color_mode = 'rgb',\n",
        "    class_mode = 'sparse',\n",
        "    shuffle=True,\n",
        "    subset='training',\n",
        "    seed=123\n",
        "    )\n",
        "    \n",
        "    model = CNN(config)\n",
        "    \n",
        "    model.compile(\n",
        "    optimizer=optimizers.Adam(learning_rate=config[\"learning_rate\"]),\n",
        "    loss=tf.losses.SparseCategoricalCrossentropy(from_logits=True),\n",
        "    metrics=['accuracy']\n",
        "    )\n",
        "    \n",
        "    history = model.fit(train_generator,\n",
        "                epochs=config['epochs'],\n",
        "                validation_data=val_generator)\n",
        "    return history,model"
      ]
    },
    {
      "cell_type": "code",
      "execution_count": null,
      "id": "a86f9123",
      "metadata": {
        "id": "a86f9123"
      },
      "outputs": [],
      "source": [
        "config = {\n",
        "    \"model\": 'InceptionV3',\n",
        "    \"learning_rate\": 1e-4,\n",
        "    \"data_augment\": \"False\",\n",
        "    \"dropout\":0.2,\n",
        "    \"batch_size\":32,\n",
        "    \"fine_tune_last\":20,\n",
        "    \"epochs\":3\n",
        "    }\n",
        "model = CNN(config)"
      ]
    },
    {
      "cell_type": "code",
      "execution_count": null,
      "id": "df3d0dc7",
      "metadata": {
        "scrolled": false,
        "id": "df3d0dc7"
      },
      "outputs": [],
      "source": [
        "history,model = train()"
      ]
    },
    {
      "cell_type": "code",
      "execution_count": null,
      "id": "0ce6e45e",
      "metadata": {
        "id": "0ce6e45e"
      },
      "outputs": [],
      "source": [
        "val_generator = ImageDataGenerator(dtype=tf.float32,validation_split=0.1,data_format='channels_last').flow_from_directory(\n",
        "        train_dir,\n",
        "        target_size = image_size,\n",
        "        batch_size = config['batch_size'],\n",
        "        color_mode = 'rgb',\n",
        "        class_mode = 'sparse',\n",
        "        shuffle=True,\n",
        "        subset='validation',\n",
        "        seed=123\n",
        "    \n",
        "    )\n",
        "    #Data Augmentation\n",
        "if config[\"data_augment\"] == 'True':\n",
        "    data_generator = ImageDataGenerator(\n",
        "        rotation_range=50, #random rotation between -50(clockwise) to 50(anti-clockwise) degree\n",
        "        brightness_range=(0.2,0.8), \n",
        "        zoom_range=0.3, #zoom in range from [0.7,1.3]\n",
        "        horizontal_flip=True,\n",
        "        vertical_flip=True,\n",
        "        width_shift_range=0.1, #Horizontal Shifting as a ratio of width\n",
        "        height_shift_range=0.2,#Vertical Shifting as a ratio of height\n",
        "        data_format='channels_last',\n",
        "        validation_split=0.1,\n",
        "        dtype=tf.float32\n",
        "        )\n",
        "else:\n",
        "    data_generator = ImageDataGenerator(\n",
        "            data_format='channels_last',\n",
        "            validation_split=0.1,\n",
        "            dtype=tf.float32\n",
        "        )\n",
        "    #Train set creation after conditional augmentation\n",
        "train_generator = data_generator.flow_from_directory(\n",
        "    train_dir,\n",
        "    target_size = image_size,\n",
        "    batch_size = config['batch_size'],\n",
        "    color_mode = 'rgb',\n",
        "    class_mode = 'sparse',\n",
        "    shuffle=True,\n",
        "    subset='training',\n",
        "    seed=123\n",
        "    )\n",
        "fine_tune_epochs = 5\n",
        "total_epochs =  config['epochs'] + fine_tune_epochs\n",
        "\n",
        "history_fine = model.fit(train_generator,\n",
        "                         epochs=total_epochs,\n",
        "                         initial_epoch=history.epoch[-1],\n",
        "                         validation_data=val_generator)"
      ]
    },
    {
      "cell_type": "code",
      "execution_count": null,
      "id": "120b17df",
      "metadata": {
        "id": "120b17df"
      },
      "outputs": [],
      "source": [
        "test_generator = ImageDataGenerator(dtype=tf.float32,validation_split=0.0,data_format='channels_last').flow_from_directory(\n",
        "        'inaturalist_12K/val',\n",
        "        target_size = image_size,\n",
        "        batch_size = 200,\n",
        "        color_mode = 'rgb',\n",
        "        class_mode = 'sparse',\n",
        "        shuffle=False,\n",
        "        seed=123\n",
        "        )\n",
        "loss0, accuracy0 = model.evaluate(test_generator)"
      ]
    }
  ],
  "metadata": {
    "kernelspec": {
      "display_name": "Python 3 (ipykernel)",
      "language": "python",
      "name": "python3"
    },
    "language_info": {
      "codemirror_mode": {
        "name": "ipython",
        "version": 3
      },
      "file_extension": ".py",
      "mimetype": "text/x-python",
      "name": "python",
      "nbconvert_exporter": "python",
      "pygments_lexer": "ipython3",
      "version": "3.8.12"
    },
    "colab": {
      "name": "cs6910_assignment2_partB_question1_2_3.ipynb",
      "provenance": [],
      "include_colab_link": true
    }
  },
  "nbformat": 4,
  "nbformat_minor": 5
}