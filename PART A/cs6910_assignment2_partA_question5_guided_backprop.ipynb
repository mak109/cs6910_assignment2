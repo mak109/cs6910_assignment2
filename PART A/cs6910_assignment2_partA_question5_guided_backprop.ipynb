{
  "cells": [
    {
      "cell_type": "markdown",
      "metadata": {
        "id": "view-in-github",
        "colab_type": "text"
      },
      "source": [
        "<a href=\"https://colab.research.google.com/github/mak109/cs6910_assignment2/blob/main/PART%20A/cs6910_assignment2_partA_question5_guided_backprop.ipynb\" target=\"_parent\"><img src=\"https://colab.research.google.com/assets/colab-badge.svg\" alt=\"Open In Colab\"/></a>"
      ]
    },
    {
      "cell_type": "markdown",
      "source": [
        "# Guided Backpropagation "
      ],
      "metadata": {
        "id": "E-kxqqejPwZv"
      },
      "id": "E-kxqqejPwZv"
    },
    {
      "cell_type": "code",
      "execution_count": null,
      "id": "8b4cbe4a",
      "metadata": {
        "scrolled": false,
        "id": "8b4cbe4a"
      },
      "outputs": [],
      "source": [
        "!pip install wget"
      ]
    },
    {
      "cell_type": "code",
      "execution_count": 2,
      "id": "c739a581",
      "metadata": {
        "id": "c739a581"
      },
      "outputs": [],
      "source": [
        "%matplotlib inline\n",
        "%config InlineBackend.figure_format = 'retina'\n",
        "import matplotlib.pyplot as plt\n",
        "import numpy as np\n",
        "import random\n",
        "import wget\n",
        "import os\n",
        "from zipfile import ZipFile\n",
        "from PIL import Image\n",
        "from matplotlib import gridspec\n",
        "plt.rcParams[\"figure.figsize\"] = (20,10)"
      ]
    },
    {
      "cell_type": "code",
      "execution_count": 3,
      "id": "fe89a953",
      "metadata": {
        "id": "fe89a953"
      },
      "outputs": [],
      "source": [
        "import tensorflow as tf\n",
        "from tensorflow import keras\n",
        "from tensorflow.keras import layers,Sequential,regularizers,optimizers\n",
        "from tensorflow.keras.preprocessing.image import ImageDataGenerator\n",
        "import random\n",
        "random.seed(123)"
      ]
    },
    {
      "cell_type": "code",
      "execution_count": 4,
      "id": "7b44f191",
      "metadata": {
        "id": "7b44f191"
      },
      "outputs": [],
      "source": [
        "url='https://storage.googleapis.com/wandb_datasets/nature_12K.zip'\n",
        "filename = os.path.basename(url)\n",
        "\n",
        "if not os.path.exists(filename) and not os.path.exists(\"inaturalist_12K\"):\n",
        "  filename = wget.download(url)\n",
        "  with ZipFile(filename, 'r') as z:\n",
        "    print('Extracting all the files now...')\n",
        "    z.extractall()\n",
        "    print('Done!')\n",
        "  os.remove(filename)"
      ]
    },
    {
      "cell_type": "code",
      "execution_count": 5,
      "id": "fa298523",
      "metadata": {
        "id": "fa298523"
      },
      "outputs": [],
      "source": [
        "image_size = (256,256)\n",
        "num_layers = 5\n",
        "num_classes = 10"
      ]
    },
    {
      "cell_type": "code",
      "source": [
        "model_url = 'https://drive.google.com/uc?id=10QlusHKjLKjV1aAELCTo73bJzWdZ6px5&export=download'\n",
        "if not os.path.exists('model-guidedback.h5'):\n",
        "  model_filename = wget.download(model_url)\n",
        "else:\n",
        "  model_filename = 'model-guidedback.h5'\n",
        "# Recreate the exact same model, including its weights and the optimizer\n",
        "model = keras.models.load_model(model_filename)\n",
        "# Show the model architecture\n",
        "model.summary()"
      ],
      "metadata": {
        "id": "A1-4coDPLPWT"
      },
      "id": "A1-4coDPLPWT",
      "execution_count": null,
      "outputs": []
    },
    {
      "cell_type": "code",
      "execution_count": 14,
      "id": "7d0dd8e7",
      "metadata": {
        "scrolled": true,
        "id": "7d0dd8e7",
        "outputId": "6912402a-a67f-4cc6-da1e-f57bebe05d8c",
        "colab": {
          "base_uri": "https://localhost:8080/"
        }
      },
      "outputs": [
        {
          "output_type": "stream",
          "name": "stdout",
          "text": [
            "Found 2000 images belonging to 10 classes.\n"
          ]
        }
      ],
      "source": [
        "test_generator = ImageDataGenerator(dtype=tf.float32,validation_split=0.0,data_format='channels_last').flow_from_directory(\n",
        "        'inaturalist_12K/val',\n",
        "        target_size = image_size,\n",
        "        batch_size = 200,\n",
        "        color_mode = 'rgb',\n",
        "        class_mode = 'sparse',\n",
        "        shuffle=False,\n",
        "        seed=123\n",
        "        )\n",
        "test_generator_ = test_generator\n",
        "images,labels = next(iter(test_generator_))\n",
        "class_names =list(test_generator.class_indices)"
      ]
    },
    {
      "cell_type": "code",
      "execution_count": 15,
      "id": "e14b2d7a",
      "metadata": {
        "id": "e14b2d7a"
      },
      "outputs": [],
      "source": [
        "#Sampling a random image from each class\n",
        "images=[]\n",
        "labels=[]\n",
        "pred_labels = []\n",
        "for count in range(len(class_names)):\n",
        "    Images,Labels = next(iter(test_generator))\n",
        "    for Image,Label in random.sample(list(zip(Images,Labels)),1):\n",
        "        images.append(Image)\n",
        "        labels.append(Label.astype('int'))\n",
        "        Image_scaled = np.expand_dims(Image,axis=0)\n",
        "        pred_labels.append(tf.argmax(model.predict(Image_scaled),1).numpy()[0])"
      ]
    },
    {
      "cell_type": "code",
      "execution_count": 16,
      "id": "27b9d671",
      "metadata": {
        "id": "27b9d671"
      },
      "outputs": [],
      "source": [
        "#Creating custom gradient for guided back prop\n",
        "@tf.custom_gradient\n",
        "def guidedRelu(x):\n",
        "    def grad(dy):\n",
        "        return tf.cast(dy>0,\"float32\") * tf.cast(x>0, \"float32\") * dy\n",
        "    return tf.nn.relu(x), grad"
      ]
    },
    {
      "cell_type": "code",
      "execution_count": 17,
      "id": "4175ac05",
      "metadata": {
        "id": "4175ac05"
      },
      "outputs": [],
      "source": [
        "#Overridimg the activation of required layers with our custom activation\n",
        "layer_activation_list = [layer.activation for layer in model.layers if hasattr(layer,'activation')]\n",
        "activation_model = tf.keras.models.Model([model.inputs],[model.layers[9].output]) #model.layers[9] is the 'CONV5' layer\n",
        "for activation in layer_activation_list:\n",
        "  activation = guidedRelu        "
      ]
    },
    {
      "cell_type": "code",
      "execution_count": 18,
      "id": "a96a4036",
      "metadata": {
        "id": "a96a4036"
      },
      "outputs": [],
      "source": [
        "with tf.GradientTape() as tape:\n",
        "    inputs = tf.cast(images,tf.float32)\n",
        "    tape.watch(inputs)\n",
        "    outputs = activation_model(inputs)\n",
        "grads = tape.gradient(outputs,inputs)"
      ]
    },
    {
      "cell_type": "code",
      "execution_count": null,
      "id": "06d71a76",
      "metadata": {
        "id": "06d71a76"
      },
      "outputs": [],
      "source": [
        "#Guided Backprop visuals\n",
        "plt.figure(figsize=(200,200))\n",
        "plt.title(\"Activations of CONV5 layer\")\n",
        "display = np.zeros((10,1))\n",
        "index = random.sample(range(outputs.numpy()[0,:,:,0].flatten().shape[0]),10)\n",
        "# print(index)\n",
        "g = gridspec.GridSpec(3,10,hspace=0.0,wspace=0.1,left=0.8,right=0.9,top=0.9,bottom=0.8)\n",
        "for j in range(10):\n",
        "    ax = plt.subplot(g[0,j])\n",
        "    ax.imshow(images[j].astype(\"uint8\"))\n",
        "    ax.set_title(class_names[labels[j].astype(\"int\")])\n",
        "    ax.axis(\"off\")\n",
        "    ac = outputs.numpy()[j,:,:,0].flatten()\n",
        "    for m in range(10):\n",
        "        for n in range(1):\n",
        "            display[m,n] = ac[index[m]]\n",
        "    ax = plt.subplot(g[1,j])\n",
        "    ax.imshow(display,cmap='gray')\n",
        "    gb_viz = grads[j]\n",
        "    gb_viz = np.dstack((\n",
        "                gb_viz[:, :, 0],\n",
        "                gb_viz[:, :, 1],\n",
        "                gb_viz[:, :, 2],\n",
        "            ))       \n",
        "    gb_viz -= np.min(gb_viz)\n",
        "    gb_viz /= gb_viz.max()\n",
        "\n",
        "    ax = plt.subplot(g[2,j])\n",
        "    ax.imshow(gb_viz)\n",
        "    ax.axis(\"off\")\n",
        "# plt.savefig(\"guided_backprop.jpg\",bbox_inches=\"tight\")"
      ]
    }
  ],
  "metadata": {
    "kernelspec": {
      "display_name": "Python 3 (ipykernel)",
      "language": "python",
      "name": "python3"
    },
    "language_info": {
      "codemirror_mode": {
        "name": "ipython",
        "version": 3
      },
      "file_extension": ".py",
      "mimetype": "text/x-python",
      "name": "python",
      "nbconvert_exporter": "python",
      "pygments_lexer": "ipython3",
      "version": "3.8.12"
    },
    "colab": {
      "name": "cs6910_assignment2_partA_question5_guided_backprop.ipynb",
      "provenance": [],
      "collapsed_sections": [],
      "include_colab_link": true
    }
  },
  "nbformat": 4,
  "nbformat_minor": 5
}