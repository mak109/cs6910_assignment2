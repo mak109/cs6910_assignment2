{
 "cells": [
  {
   "cell_type": "code",
   "execution_count": 1,
   "id": "8b4cbe4a",
   "metadata": {
    "scrolled": false
   },
   "outputs": [
    {
     "name": "stdout",
     "output_type": "stream",
     "text": [
      "Requirement already satisfied: wget in /opt/homebrew/Caskroom/miniforge/base/envs/mak/lib/python3.8/site-packages (3.2)\r\n"
     ]
    }
   ],
   "source": [
    "!pip install wget"
   ]
  },
  {
   "cell_type": "code",
   "execution_count": 2,
   "id": "57958201",
   "metadata": {
    "scrolled": true
   },
   "outputs": [
    {
     "name": "stderr",
     "output_type": "stream",
     "text": [
      "\u001b[34m\u001b[1mwandb\u001b[0m: Currently logged in as: \u001b[33mmak109\u001b[0m (use `wandb login --relogin` to force relogin)\n"
     ]
    },
    {
     "data": {
      "text/plain": [
       "True"
      ]
     },
     "execution_count": 2,
     "metadata": {},
     "output_type": "execute_result"
    }
   ],
   "source": [
    "!pip install wandb -qqq\n",
    "import wandb\n",
    "wandb.login()"
   ]
  },
  {
   "cell_type": "code",
   "execution_count": 3,
   "id": "a21c9ef3",
   "metadata": {},
   "outputs": [],
   "source": [
    "from wandb.keras import WandbCallback"
   ]
  },
  {
   "cell_type": "code",
   "execution_count": 4,
   "id": "c739a581",
   "metadata": {},
   "outputs": [],
   "source": [
    "%matplotlib inline\n",
    "%config InlineBackend.figure_format = 'retina'\n",
    "import matplotlib.pyplot as plt\n",
    "import numpy as np\n",
    "import random\n",
    "import wget\n",
    "import os\n",
    "from zipfile import ZipFile\n",
    "from PIL import Image\n",
    "plt.rcParams[\"figure.figsize\"] = (20,10)"
   ]
  },
  {
   "cell_type": "code",
   "execution_count": 5,
   "id": "fe89a953",
   "metadata": {},
   "outputs": [],
   "source": [
    "import tensorflow as tf\n",
    "from tensorflow import keras\n",
    "from tensorflow.keras import layers,Sequential,regularizers,optimizers\n",
    "from tensorflow.keras.preprocessing.image import ImageDataGenerator\n",
    "import random\n",
    "random.seed(123)"
   ]
  },
  {
   "cell_type": "code",
   "execution_count": 6,
   "id": "7b44f191",
   "metadata": {},
   "outputs": [],
   "source": [
    "import wget\n",
    "import os\n",
    "from zipfile import ZipFile\n",
    "url='https://storage.googleapis.com/wandb_datasets/nature_12K.zip'\n",
    "filename = os.path.basename(url)\n",
    "\n",
    "if not os.path.exists(filename) and not os.path.exists(\"inaturalist_12K\"):\n",
    "  filename = wget.download(url)\n",
    "  with ZipFile(filename, 'r') as zip:\n",
    "    print('Extracting all the files now...')\n",
    "    zip.extractall()\n",
    "    print('Done!')\n",
    "  os.remove(filename)"
   ]
  },
  {
   "cell_type": "code",
   "execution_count": 67,
   "id": "fa298523",
   "metadata": {},
   "outputs": [],
   "source": [
    "image_size = (256,256)\n",
    "num_layers = 5\n",
    "num_classes = 10"
   ]
  },
  {
   "cell_type": "code",
   "execution_count": 80,
   "id": "74e4b43d",
   "metadata": {
    "scrolled": true
   },
   "outputs": [],
   "source": [
    "tf.debugging.set_log_device_placement(True)"
   ]
  },
  {
   "cell_type": "code",
   "execution_count": 68,
   "id": "7b0abbdf",
   "metadata": {},
   "outputs": [],
   "source": [
    "def CNN(config):\n",
    "    model = Sequential([\n",
    "        layers.Input((image_size[0],image_size[1],3)),\n",
    "        layers.Rescaling(1./255)\n",
    "        ])\n",
    "    \n",
    "    for l in range(num_layers):\n",
    "        model.add(layers.Conv2D(filters=config[\"filters_list\"][l],kernel_size=(config[\"kernel_sizes\"][l][0],config[\"kernel_sizes\"][l][1]),\n",
    "                        activation=config[\"activation\"],padding=\"same\",kernel_regularizer=regularizers.l2(config[\"weight_decay\"])))\n",
    "        if config[\"batch_normalization\"] == 'True':\n",
    "            model.add(layers.BatchNormalization())\n",
    "        model.add(layers.MaxPooling2D(pool_size=(2,2)))\n",
    "\n",
    "    model.add(layers.Flatten())\n",
    "    model.add(layers.Dense(config[\"dense_layer_size\"],activation=config[\"activation\"],kernel_regularizer=regularizers.l2(config[\"weight_decay\"])))\n",
    "    model.add(layers.Dropout(config[\"dropout\"]))\n",
    "\n",
    "    model.add(layers.Dense(num_classes,activation=\"softmax\"))\n",
    "    return model\n",
    "\n"
   ]
  },
  {
   "cell_type": "code",
   "execution_count": 82,
   "id": "537a926a",
   "metadata": {},
   "outputs": [],
   "source": [
    "#Training goes here\n",
    "\n",
    "def train():\n",
    "    #default configuration\n",
    "    config_ = {\n",
    "    \"kernel_sizes\" : [(3,3),(3,3),(3,3),(3,3),(3,3)],\n",
    "    \"activation\" : 'relu',\n",
    "    \"learning_rate\": 1e-3,\n",
    "    \"filters_list\" : [32,32,64,64,32],\n",
    "    \"dense_layer_size\" : 128,\n",
    "    \"batch_normalization\": \"True\",\n",
    "    \"data_augment\": \"False\",\n",
    "    \"weight_decay\":0.0005,\n",
    "    \"dropout\":0.2,\n",
    "    \"batch_size\":64,\n",
    "    \"epochs\":3\n",
    "    }\n",
    "    wandb.init(config=config_)\n",
    "    config = wandb.config\n",
    "    \n",
    "    #Setting run name for better readability\n",
    "    wandb.run.name = \"nd_\"+str(config[\"dense_layer_size\"])+\"bs_\"+str(config[\"batch_size\"])+\"ac_\"+str(config[\"activation\"])\n",
    "    #Some data preprocessing and train,val splitting\n",
    "    \n",
    "    val_generator = ImageDataGenerator(dtype=tf.float32,validation_split=0.1,data_format='channels_last').flow_from_directory(\n",
    "        'inaturalist_12K/train',\n",
    "        target_size = image_size,\n",
    "        batch_size = config['batch_size'],\n",
    "        color_mode = 'rgb',\n",
    "        class_mode = 'sparse',\n",
    "        shuffle=True,\n",
    "        subset='validation',\n",
    "        seed=123\n",
    "    \n",
    "    )\n",
    "    #Data Augmentation\n",
    "    if config[\"data_augment\"] == 'True':\n",
    "        data_generator = ImageDataGenerator(\n",
    "        rotation_range=50, #random rotation between -50(clockwise) to 50(anti-clockwise) degree\n",
    "        brightness_range=(0.2,0.8), \n",
    "        zoom_range=0.3, #zoom in range from [0.7,1.3]\n",
    "        horizontal_flip=True,\n",
    "        vertical_flip=True,\n",
    "        width_shift_range=0.1, #Horizontal Shifting as a ratio of width\n",
    "        height_shift_range=0.2,#Vertical Shifting as a ratio of height\n",
    "        data_format='channels_last',\n",
    "        validation_split=0.1,\n",
    "        dtype=tf.float32\n",
    "        )\n",
    "    else:\n",
    "        data_generator = ImageDataGenerator(\n",
    "            data_format='channels_last',\n",
    "            validation_split=0.1,\n",
    "            dtype=tf.float32\n",
    "        )\n",
    "    #Train set creation after conditional augmentation\n",
    "    train_generator = data_generator.flow_from_directory(\n",
    "    'inaturalist_12K/train',\n",
    "    target_size = image_size,\n",
    "    batch_size = config['batch_size'],\n",
    "    color_mode = 'rgb',\n",
    "    class_mode = 'sparse',\n",
    "    shuffle=True,\n",
    "    subset='training',\n",
    "    seed=123\n",
    "    )\n",
    "    #Building Model based on config \n",
    "    model = CNN(config)\n",
    "    \n",
    "    #Compiling model \n",
    "    model.compile(\n",
    "    optimizer=optimizers.Adam(learning_rate=config[\"learning_rate\"]),\n",
    "    loss=tf.losses.SparseCategoricalCrossentropy(from_logits=True),\n",
    "    metrics=['accuracy']\n",
    "    )\n",
    "    \n",
    "    #Fitting Model\n",
    "    model.fit(train_generator,\n",
    "        validation_data=val_generator,\n",
    "        epochs=config[\"epochs\"],\n",
    "        verbose=1,\n",
    "        callbacks = [WandbCallback()]\n",
    "        )\n",
    "    #Saving model into run directory for future testing\n",
    "    model.save(os.path.join(wandb.run.dir,\"model.h5\"))\n",
    "    wandb.finish()"
   ]
  },
  {
   "cell_type": "code",
   "execution_count": 85,
   "id": "5d023074",
   "metadata": {},
   "outputs": [],
   "source": [
    "#Sweep configuration for runs\n",
    "sweep_config = {\n",
    "  \"name\" : \"best-sweep\",\n",
    "  \"method\" : \"bayes\",\n",
    "    \"early_terminate\":{\n",
    "        \"type\":\"hyperband\",\n",
    "        \"max_iter\":27,\n",
    "        \"s\":2\n",
    "    },\n",
    "  \"metric\" : {\n",
    "      \"name\" : \"val_accuracy\",\n",
    "      \"goal\" : \"maximize\"\n",
    "  },\n",
    "  \"parameters\" : {\n",
    "    \"epochs\" : {\n",
    "      \"values\" : [10,20,30]\n",
    "    },\n",
    "    \"learning_rate\" :{\n",
    "      \"values\" : [1e-3,1e-4]\n",
    "    },\n",
    "    \"kernel_sizes\":{\n",
    "        \"values\" : [[(3,3),(3,3),(3,3),(3,3),(3,3)],\n",
    "                    [(3,3),(3,3),(5,5),(7,7),(7,7)],\n",
    "                    [(11,11),(11,11),(7,7),(5,5),(3,3)],\n",
    "                    [(3,3),(5,5),(7,7),(9,9),(11,11)]]\n",
    "    },\n",
    "    \"filters_list\":{\n",
    "        \"values\" : [[32,32,32,32,32],[128,64,64,32,32],[32,64,64,128,128],[32,64,128,256,512]]\n",
    "    },\n",
    "    \"weight_decay\":{\n",
    "      \"values\": [0,0.0005,0.005]  \n",
    "    },\n",
    "    \"data_augment\":{\n",
    "        \"values\": [\"True\",\"False\"]\n",
    "    },\n",
    "    \"batch_size\":{\n",
    "        \"values\":[32,64]\n",
    "    },\n",
    "    \"activation\":{\n",
    "        \"values\": [\"relu\",\"elu\",\"swish\"]\n",
    "    },\n",
    "      \"dropout\":{\n",
    "          \"values\":[0.0,0.2,0.3]\n",
    "      },\n",
    "      \"dense_layer_size\":{\n",
    "          \"values\":[64,128,256,512]\n",
    "      },\n",
    "      \"batch_normalization\":{\n",
    "          \"values\":[\"True\",\"False\"]\n",
    "      }\n",
    "  }\n",
    "}"
   ]
  },
  {
   "cell_type": "code",
   "execution_count": 86,
   "id": "9d1be975",
   "metadata": {},
   "outputs": [
    {
     "name": "stdout",
     "output_type": "stream",
     "text": [
      "Create sweep with ID: hhts08vf\n",
      "Sweep URL: https://wandb.ai/dlstack/CS6910-ASSIGNMENT-2/sweeps/hhts08vf\n"
     ]
    }
   ],
   "source": [
    "sweep_id=wandb.sweep(sweep_config,entity=\"dlstack\",project=\"CS6910-ASSIGNMENT-2\")"
   ]
  },
  {
   "cell_type": "code",
   "execution_count": null,
   "id": "0edd7a6d",
   "metadata": {},
   "outputs": [
    {
     "name": "stderr",
     "output_type": "stream",
     "text": [
      "\u001b[34m\u001b[1mwandb\u001b[0m: Agent Starting Run: tt6xober with config:\n",
      "\u001b[34m\u001b[1mwandb\u001b[0m: \tactivation: relu\n",
      "\u001b[34m\u001b[1mwandb\u001b[0m: \tbatch_normalization: True\n",
      "\u001b[34m\u001b[1mwandb\u001b[0m: \tbatch_size: 32\n",
      "\u001b[34m\u001b[1mwandb\u001b[0m: \tdata_augment: True\n",
      "\u001b[34m\u001b[1mwandb\u001b[0m: \tdense_layer_size: 256\n",
      "\u001b[34m\u001b[1mwandb\u001b[0m: \tdropout: 0.4\n",
      "\u001b[34m\u001b[1mwandb\u001b[0m: \tepochs: 20\n",
      "\u001b[34m\u001b[1mwandb\u001b[0m: \tfilters_list: [128, 64, 64, 32, 32]\n",
      "\u001b[34m\u001b[1mwandb\u001b[0m: \tkernel_sizes: [[11, 11], [11, 11], [7, 7], [5, 5], [3, 3]]\n",
      "\u001b[34m\u001b[1mwandb\u001b[0m: \tlearning_rate: 0.0001\n",
      "\u001b[34m\u001b[1mwandb\u001b[0m: \tweight_decay: 0\n"
     ]
    },
    {
     "data": {
      "text/html": [
       "Tracking run with wandb version 0.12.11"
      ],
      "text/plain": [
       "<IPython.core.display.HTML object>"
      ]
     },
     "metadata": {},
     "output_type": "display_data"
    },
    {
     "data": {
      "text/html": [
       "Run data is saved locally in <code>/Users/b/wandb/run-20220325_115414-tt6xober</code>"
      ],
      "text/plain": [
       "<IPython.core.display.HTML object>"
      ]
     },
     "metadata": {},
     "output_type": "display_data"
    },
    {
     "data": {
      "text/html": [
       "Syncing run <strong><a href=\"https://wandb.ai/dlstack/CS6910-ASSIGNMENT-2/runs/tt6xober\" target=\"_blank\">wild-sweep-1</a></strong> to <a href=\"https://wandb.ai/dlstack/CS6910-ASSIGNMENT-2\" target=\"_blank\">Weights & Biases</a> (<a href=\"https://wandb.me/run\" target=\"_blank\">docs</a>)<br/>Sweep page:  <a href=\"https://wandb.ai/dlstack/CS6910-ASSIGNMENT-2/sweeps/hhts08vf\" target=\"_blank\">https://wandb.ai/dlstack/CS6910-ASSIGNMENT-2/sweeps/hhts08vf</a>"
      ],
      "text/plain": [
       "<IPython.core.display.HTML object>"
      ]
     },
     "metadata": {},
     "output_type": "display_data"
    },
    {
     "name": "stdout",
     "output_type": "stream",
     "text": [
      "Found 999 images belonging to 10 classes.\n",
      "Found 9000 images belonging to 10 classes.\n",
      "Epoch 1/20\n"
     ]
    },
    {
     "name": "stderr",
     "output_type": "stream",
     "text": [
      "/opt/homebrew/Caskroom/miniforge/base/envs/mak/lib/python3.8/site-packages/tensorflow/python/util/dispatch.py:1082: UserWarning: \"`sparse_categorical_crossentropy` received `from_logits=True`, but the `output` argument was produced by a sigmoid or softmax activation and thus does not represent logits. Was this intended?\"\n",
      "  return dispatch_target(*args, **kwargs)\n",
      "2022-03-25 11:54:20.541422: I tensorflow/core/grappler/optimizers/custom_graph_optimizer_registry.cc:113] Plugin optimizer for device_type GPU is enabled.\n"
     ]
    },
    {
     "name": "stdout",
     "output_type": "stream",
     "text": [
      "  6/282 [..............................] - ETA: 22:51 - loss: 3.4519 - accuracy: 0.1406WARNING:tensorflow:Callback method `on_train_batch_end` is slow compared to the batch time (batch time: 1.0286s vs `on_train_batch_end` time: 3.7926s). Check your callbacks.\n",
      "282/282 [==============================] - ETA: 0s - loss: 2.6761 - accuracy: 0.1427"
     ]
    },
    {
     "name": "stderr",
     "output_type": "stream",
     "text": [
      "2022-03-25 12:17:56.442517: I tensorflow/core/grappler/optimizers/custom_graph_optimizer_registry.cc:113] Plugin optimizer for device_type GPU is enabled.\n"
     ]
    },
    {
     "name": "stdout",
     "output_type": "stream",
     "text": [
      "282/282 [==============================] - 1446s 5s/step - loss: 2.6761 - accuracy: 0.1427 - val_loss: 2.4446 - val_accuracy: 0.1261 - _timestamp: 1648190905.0000 - _runtime: 1451.0000\n",
      "Epoch 2/20\n",
      "282/282 [==============================] - 1430s 5s/step - loss: 2.3010 - accuracy: 0.1782 - val_loss: 2.2102 - val_accuracy: 0.2012 - _timestamp: 1648192335.0000 - _runtime: 2881.0000\n",
      "Epoch 3/20\n",
      "282/282 [==============================] - 1396s 5s/step - loss: 2.2144 - accuracy: 0.1992 - val_loss: 2.5335 - val_accuracy: 0.1592 - _timestamp: 1648193732.0000 - _runtime: 4278.0000\n",
      "Epoch 4/20\n",
      "282/282 [==============================] - 1411s 5s/step - loss: 2.1789 - accuracy: 0.2118 - val_loss: 2.3082 - val_accuracy: 0.1582 - _timestamp: 1648195142.0000 - _runtime: 5688.0000\n",
      "Epoch 5/20\n",
      " 96/282 [=========>....................] - ETA: 16:00 - loss: 2.1557 - accuracy: 0.2106"
     ]
    },
    {
     "name": "stderr",
     "output_type": "stream",
     "text": [
      "Error: command buffer exited with error status.\n",
      "\tThe Metal Performance Shaders operations encoded on it may not have completed.\n",
      "\tError: \n",
      "\t(null)\n",
      "\tInternal Error (0000000e:Internal Error)\n",
      "\t<AGXG13GFamilyCommandBuffer: 0x28a6b8430>\n",
      "    label = <none> \n",
      "    device = <AGXG13GDevice: 0x156f19a00>\n",
      "        name = Apple M1 \n",
      "    commandQueue = <AGXG13GFamilyCommandQueue: 0x157901c00>\n",
      "        label = <none> \n",
      "        device = <AGXG13GDevice: 0x156f19a00>\n",
      "            name = Apple M1 \n",
      "    retainedReferences = 1\n"
     ]
    },
    {
     "name": "stdout",
     "output_type": "stream",
     "text": [
      "282/282 [==============================] - 1465s 5s/step - loss: 2.1532 - accuracy: 0.2118 - val_loss: 2.3620 - val_accuracy: 0.1622 - _timestamp: 1648196608.0000 - _runtime: 7154.0000\n",
      "Epoch 6/20\n",
      "282/282 [==============================] - 1428s 5s/step - loss: 2.1368 - accuracy: 0.2237 - val_loss: 2.3004 - val_accuracy: 0.1632 - _timestamp: 1648198036.0000 - _runtime: 8582.0000\n",
      "Epoch 7/20\n",
      "282/282 [==============================] - 1434s 5s/step - loss: 2.1078 - accuracy: 0.2414 - val_loss: 2.1464 - val_accuracy: 0.2322 - _timestamp: 1648199469.0000 - _runtime: 10015.0000\n",
      "Epoch 8/20\n",
      " 28/282 [=>............................] - ETA: 20:28 - loss: 2.1145 - accuracy: 0.2400"
     ]
    }
   ],
   "source": [
    "wandb.agent(sweep_id, function=train, count=1)"
   ]
  }
 ],
 "metadata": {
  "kernelspec": {
   "display_name": "Python 3 (ipykernel)",
   "language": "python",
   "name": "python3"
  },
  "language_info": {
   "codemirror_mode": {
    "name": "ipython",
    "version": 3
   },
   "file_extension": ".py",
   "mimetype": "text/x-python",
   "name": "python",
   "nbconvert_exporter": "python",
   "pygments_lexer": "ipython3",
   "version": "3.8.12"
  }
 },
 "nbformat": 4,
 "nbformat_minor": 5
}
