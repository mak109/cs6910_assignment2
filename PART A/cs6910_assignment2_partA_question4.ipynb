{
  "cells": [
    {
      "cell_type": "markdown",
      "metadata": {
        "id": "view-in-github",
        "colab_type": "text"
      },
      "source": [
        "<a href=\"https://colab.research.google.com/github/mak109/cs6910_assignment2/blob/main/PART%20A/cs6910_assignment2_partA_question4.ipynb\" target=\"_parent\"><img src=\"https://colab.research.google.com/assets/colab-badge.svg\" alt=\"Open In Colab\"/></a>"
      ]
    },
    {
      "cell_type": "markdown",
      "source": [
        "# Visualization part\n",
        "  In this part we find the test accuracy on the best model found after Question 3 and we did the following\n",
        "   - Found the test accuracy\n",
        "   - Plotted an image grid of 10X3 showing true vs predicted label based on best model\n",
        "   - Visualize the filters of 1st Convolution layer\n"
      ],
      "metadata": {
        "id": "P-fuvYZYHK2e"
      },
      "id": "P-fuvYZYHK2e"
    },
    {
      "cell_type": "code",
      "execution_count": null,
      "id": "547b07f2",
      "metadata": {
        "id": "547b07f2"
      },
      "outputs": [],
      "source": [
        "!pip install wget"
      ]
    },
    {
      "cell_type": "code",
      "execution_count": 30,
      "id": "3291ab4c",
      "metadata": {
        "id": "3291ab4c"
      },
      "outputs": [],
      "source": [
        "%matplotlib inline\n",
        "%config InlineBackend.figure_format = 'retina'\n",
        "import matplotlib.pyplot as plt\n",
        "import numpy as np\n",
        "import random\n",
        "import wget\n",
        "import os\n",
        "from zipfile import ZipFile\n",
        "from PIL import Image\n",
        "from matplotlib import gridspec\n",
        "plt.rcParams[\"figure.figsize\"] = (20,10)"
      ]
    },
    {
      "cell_type": "code",
      "execution_count": 27,
      "id": "e3f884ab",
      "metadata": {
        "id": "e3f884ab"
      },
      "outputs": [],
      "source": [
        "import tensorflow as tf\n",
        "from tensorflow import keras\n",
        "from keras.preprocessing.image import ImageDataGenerator\n",
        "import random\n",
        "random.seed(123)"
      ]
    },
    {
      "cell_type": "code",
      "execution_count": 31,
      "id": "325bcb05",
      "metadata": {
        "id": "325bcb05"
      },
      "outputs": [],
      "source": [
        "url='https://storage.googleapis.com/wandb_datasets/nature_12K.zip'\n",
        "filename = os.path.basename(url)\n",
        "\n",
        "if not os.path.exists(filename) and not os.path.exists(\"inaturalist_12K\"):\n",
        "  filename = wget.download(url)\n",
        "  with ZipFile(filename, 'r') as z:\n",
        "    print('Extracting all the files now...')\n",
        "    z.extractall()\n",
        "    print('Done!')\n",
        "  os.remove(filename)"
      ]
    },
    {
      "cell_type": "code",
      "execution_count": 7,
      "id": "a047fccb",
      "metadata": {
        "id": "a047fccb"
      },
      "outputs": [],
      "source": [
        "image_size = (256,256)\n",
        "num_layers = 5\n",
        "num_classes = 10"
      ]
    },
    {
      "cell_type": "code",
      "source": [
        "model_url = 'https://drive.google.com/uc?id=1t9_xgJkFr7j5v3rOXAuJAN7mFCDpa4Dk&export=download'\n",
        "if not os.path.exists('model-best.h5'):\n",
        "  model_filename = wget.download(model_url)\n",
        "else:\n",
        "  model_filename = 'model-best.h5'\n",
        "# Recreate the exact same model, including its weights and the optimizer\n",
        "model = keras.models.load_model(model_filename)\n",
        "# Show the model architecture\n",
        "model.summary()"
      ],
      "metadata": {
        "id": "1Lr8x82--GMw"
      },
      "id": "1Lr8x82--GMw",
      "execution_count": null,
      "outputs": []
    },
    {
      "cell_type": "markdown",
      "source": [
        "## Test Accuracy on best model loaded above"
      ],
      "metadata": {
        "id": "ctVPKmmLIZiz"
      },
      "id": "ctVPKmmLIZiz"
    },
    {
      "cell_type": "code",
      "execution_count": null,
      "id": "5999a8b7",
      "metadata": {
        "scrolled": true,
        "id": "5999a8b7"
      },
      "outputs": [],
      "source": [
        "test_generator = ImageDataGenerator(dtype=tf.float32,validation_split=0.0,data_format='channels_last').flow_from_directory(\n",
        "        'inaturalist_12K/val',\n",
        "        target_size = image_size,\n",
        "        batch_size = 200,\n",
        "        color_mode = 'rgb',\n",
        "        class_mode = 'sparse',\n",
        "        shuffle=False,\n",
        "        seed=123\n",
        "        )\n",
        "test_loss,test_acc = model.evaluate(test_generator)\n",
        "print(f\"Test Accuracy : {test_acc} Test loss : {test_loss}\")\n",
        "class_names =list(test_generator.class_indices)"
      ]
    },
    {
      "cell_type": "code",
      "execution_count": 34,
      "id": "a1e7a301",
      "metadata": {
        "id": "a1e7a301"
      },
      "outputs": [],
      "source": [
        "#Sampling from test data for visualization part\n",
        "images=[]\n",
        "labels=[]\n",
        "pred_labels = []\n",
        "for count in range(len(class_names)):\n",
        "    Images,Labels = next(iter(test_generator))\n",
        "    for Image,Label in random.sample(list(zip(Images,Labels)),3):\n",
        "        images.append(Image)\n",
        "        labels.append(Label.astype('int'))\n",
        "        Image_scaled = np.expand_dims(Image,axis=0)\n",
        "        pred_labels.append(tf.argmax(model.predict(Image_scaled),1).numpy()[0])"
      ]
    },
    {
      "cell_type": "code",
      "execution_count": 35,
      "id": "bdb7a49e",
      "metadata": {
        "id": "bdb7a49e",
        "colab": {
          "base_uri": "https://localhost:8080/"
        },
        "outputId": "c0b32d02-c37f-4cd9-b3e0-02a2686b72f7"
      },
      "outputs": [
        {
          "output_type": "execute_result",
          "data": {
            "text/plain": [
              "6"
            ]
          },
          "metadata": {},
          "execution_count": 35
        }
      ],
      "source": [
        "#Printing number of correct labels\n",
        "np.sum(np.array(labels)==pred_labels)"
      ]
    },
    {
      "cell_type": "markdown",
      "source": [
        "## Image grid of 10X3 showing true vs predicted label based on best model"
      ],
      "metadata": {
        "id": "ykBwzOiCIy60"
      },
      "id": "ykBwzOiCIy60"
    },
    {
      "cell_type": "code",
      "source": [
        "idx=0\n",
        "fig = plt.figure(figsize=(60,60))\n",
        "g = gridspec.GridSpec(10,3,wspace=0.1,left=0.7,right=0.9)\n",
        "for i in range(10):\n",
        "    for j in range(3):\n",
        "        ax = plt.subplot(g[i,j])\n",
        "        ax.imshow(images[idx].astype(\"uint8\"))\n",
        "        title = f\"True label : {class_names[labels[idx].astype('int')]}\\nPredicted label : {class_names[pred_labels[idx]]}\"\n",
        "        ax.set_title(title)\n",
        "        ax.axis(\"off\")\n",
        "        idx += 1\n",
        "# plt.savefig(\"test_image_37percent.jpg\",bbox_inches=\"tight\") "
      ],
      "metadata": {
        "id": "wq9AwUlluubb"
      },
      "id": "wq9AwUlluubb",
      "execution_count": null,
      "outputs": []
    },
    {
      "cell_type": "markdown",
      "source": [
        "## Visualization of filters"
      ],
      "metadata": {
        "id": "0-P2lOf-I9DM"
      },
      "id": "0-P2lOf-I9DM"
    },
    {
      "cell_type": "code",
      "source": [
        "#Random Image \n",
        "test_generator.reset()\n",
        "images,labels = next(iter(test_generator))\n",
        "rand_indx = random.randint(0,200)\n",
        "random_image = images[rand_indx].astype(\"uint8\")\n",
        "random_image_label = labels[rand_indx].astype(\"int\")\n",
        "filters_activation = model.layers[1].call(images).numpy()[rand_indx]\n",
        "filters = model.layers[1].weights[0].numpy()\n",
        "plt.figure(figsize=(5,5))\n",
        "plt.imshow(random_image)\n",
        "plt.axis(\"off\")\n",
        "plt.title(\"Random image label : \"+str(class_names[random_image_label]))\n",
        "# plt.savefig(\"random_image_best_model.jpg\",bbox_inches=\"tight\")\n"
      ],
      "metadata": {
        "id": "5_gFoXmzuzW-"
      },
      "id": "5_gFoXmzuzW-",
      "execution_count": null,
      "outputs": []
    },
    {
      "cell_type": "code",
      "source": [
        "#Filters activation for the above random image\n",
        "idx=0\n",
        "fig = plt.figure(figsize=(60,60))\n",
        "# fig.tight_layout()\n",
        "g = gridspec.GridSpec(4,8,wspace=0.1,left=0.7,right=0.9,top=0.7,bottom=0.6)\n",
        "for i in range(4):\n",
        "    for j in range(8):\n",
        "        ax = plt.subplot(g[i,j])\n",
        "        ax.imshow(filters_activation[:,:,idx].astype(\"uint8\"))\n",
        "        title = \"filter : \"+str(idx+1)\n",
        "        ax.set_title(title)\n",
        "        ax.axis(\"off\")\n",
        "        idx += 1\n",
        "# plt.savefig(\"random_image_best_model_filters_activation.jpg\",bbox_inches=\"tight\")"
      ],
      "metadata": {
        "id": "DexHFEvbFQNn"
      },
      "id": "DexHFEvbFQNn",
      "execution_count": null,
      "outputs": []
    },
    {
      "cell_type": "code",
      "source": [
        "#Filters for the above random image\n",
        "idx=0\n",
        "fig = plt.figure(figsize=(60,60))\n",
        "g = gridspec.GridSpec(32,3,wspace=0.2,hspace=0.5,left=0.8,right=0.9)\n",
        "for i in range(32):\n",
        "    for j in range(3):\n",
        "        ax = plt.subplot(g[i,j])\n",
        "        ax.imshow(filters[j,:,:,i],cmap='gray')\n",
        "        title = f\"filter : {i+1} channel : {j+1}\"\n",
        "        ax.set_title(title)\n",
        "        ax.axis(\"off\")\n",
        "        idx += 1\n",
        "# plt.savefig(\"random_image_best_model_filters.jpg\",bbox_inches=\"tight\")"
      ],
      "metadata": {
        "id": "eszut4-bFS--"
      },
      "id": "eszut4-bFS--",
      "execution_count": null,
      "outputs": []
    }
  ],
  "metadata": {
    "kernelspec": {
      "display_name": "Python 3 (ipykernel)",
      "language": "python",
      "name": "python3"
    },
    "language_info": {
      "codemirror_mode": {
        "name": "ipython",
        "version": 3
      },
      "file_extension": ".py",
      "mimetype": "text/x-python",
      "name": "python",
      "nbconvert_exporter": "python",
      "pygments_lexer": "ipython3",
      "version": "3.8.12"
    },
    "colab": {
      "name": "cs6910_assignment2_partA_question4.ipynb",
      "provenance": [],
      "collapsed_sections": [],
      "include_colab_link": true
    },
    "accelerator": "GPU"
  },
  "nbformat": 4,
  "nbformat_minor": 5
}