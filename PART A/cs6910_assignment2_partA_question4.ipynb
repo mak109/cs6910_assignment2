{
  "cells": [
    {
      "cell_type": "markdown",
      "id": "de2a472c",
      "metadata": {
        "id": "de2a472c"
      },
      "source": [
        "# Visualization part\n",
        "  In this part we find the test accuracy on the best model found after Question 3 and we did the following\n",
        "   - Found the test accuracy\n",
        "   - Plotted an image grid of 10X3 showing true vs predicted label based on best model\n",
        "   - Visualize the filters of 1st Convolution layer"
      ]
    },
    {
      "cell_type": "code",
      "execution_count": null,
      "id": "547b07f2",
      "metadata": {
        "id": "547b07f2",
        "outputId": "be1c99e4-3c75-4b63-e29b-fb601fcd36ef"
      },
      "outputs": [
        {
          "name": "stdout",
          "output_type": "stream",
          "text": [
            "Requirement already satisfied: wget in /opt/homebrew/Caskroom/miniforge/base/envs/mak/lib/python3.8/site-packages (3.2)\r\n"
          ]
        }
      ],
      "source": [
        "!pip install wget"
      ]
    },
    {
      "cell_type": "code",
      "execution_count": null,
      "id": "d6336839",
      "metadata": {
        "id": "d6336839",
        "outputId": "218cf6db-064c-4233-b81c-97b1fdcc9977"
      },
      "outputs": [
        {
          "name": "stderr",
          "output_type": "stream",
          "text": [
            "\u001b[34m\u001b[1mwandb\u001b[0m: Currently logged in as: \u001b[33mmak109\u001b[0m (use `wandb login --relogin` to force relogin)\n"
          ]
        },
        {
          "data": {
            "text/plain": [
              "True"
            ]
          },
          "execution_count": 2,
          "metadata": {},
          "output_type": "execute_result"
        }
      ],
      "source": [
        "!pip install wandb -qqq\n",
        "import wandb\n",
        "wandb.login()"
      ]
    },
    {
      "cell_type": "code",
      "execution_count": null,
      "id": "3291ab4c",
      "metadata": {
        "id": "3291ab4c"
      },
      "outputs": [],
      "source": [
        "%matplotlib inline\n",
        "%config InlineBackend.figure_format = 'retina'\n",
        "import matplotlib.pyplot as plt\n",
        "import numpy as np\n",
        "import random\n",
        "import wget\n",
        "import os\n",
        "from zipfile import ZipFile\n",
        "from PIL import Image\n",
        "import yaml\n",
        "from matplotlib import gridspec\n",
        "plt.rcParams[\"figure.figsize\"] = (20,10)"
      ]
    },
    {
      "cell_type": "code",
      "execution_count": null,
      "id": "e3f884ab",
      "metadata": {
        "id": "e3f884ab"
      },
      "outputs": [],
      "source": [
        "import tensorflow as tf\n",
        "from tensorflow import keras\n",
        "from tensorflow.keras import layers,Sequential,regularizers,optimizers\n",
        "from tensorflow.keras.preprocessing.image import ImageDataGenerator\n",
        "import random\n",
        "random.seed(123)"
      ]
    },
    {
      "cell_type": "code",
      "execution_count": null,
      "id": "325bcb05",
      "metadata": {
        "id": "325bcb05"
      },
      "outputs": [],
      "source": [
        "#Image download and extracting\n",
        "import wget\n",
        "import os\n",
        "from zipfile import ZipFile\n",
        "url='https://storage.googleapis.com/wandb_datasets/nature_12K.zip'\n",
        "filename = os.path.basename(url)\n",
        "\n",
        "if not os.path.exists(filename) and not os.path.exists(\"inaturalist_12K\"):\n",
        "  filename = wget.download(url)\n",
        "  with ZipFile(filename, 'r') as zip:\n",
        "    print('Extracting all the files now...')\n",
        "    zip.extractall()\n",
        "    print('Done!')\n",
        "  os.remove(filename)"
      ]
    },
    {
      "cell_type": "code",
      "execution_count": null,
      "id": "a047fccb",
      "metadata": {
        "id": "a047fccb"
      },
      "outputs": [],
      "source": [
        "image_size = (256,256)\n",
        "num_layers = 5\n",
        "num_classes = 10"
      ]
    },
    {
      "cell_type": "code",
      "execution_count": null,
      "id": "5fc6607e",
      "metadata": {
        "id": "5fc6607e"
      },
      "outputs": [],
      "source": [
        "def CNN(config):\n",
        "    model = Sequential([\n",
        "        layers.Input((image_size[0],image_size[1],3)),\n",
        "        layers.Rescaling(1./255)\n",
        "        ])\n",
        "    \n",
        "    for l in range(num_layers):\n",
        "        model.add(layers.Conv2D(filters=config[\"filters_list\"][l],kernel_size=(config[\"kernel_sizes\"][l][0],config[\"kernel_sizes\"][l][1]),\n",
        "                        activation=config[\"activation\"],padding=\"same\",kernel_regularizer=regularizers.l2(config[\"weight_decay\"])))\n",
        "        if config[\"batch_normalization\"] == 'True':\n",
        "            model.add(layers.BatchNormalization())\n",
        "        model.add(layers.MaxPooling2D(pool_size=(2,2)))\n",
        "\n",
        "    model.add(layers.Flatten())\n",
        "    model.add(layers.Dense(config[\"dense_layer_size\"],activation=config[\"activation\"],kernel_regularizer=regularizers.l2(config[\"weight_decay\"])))\n",
        "    model.add(layers.Dropout(config[\"dropout\"]))\n",
        "\n",
        "    model.add(layers.Dense(num_classes,activation=\"softmax\"))\n",
        "    return model"
      ]
    },
    {
      "cell_type": "code",
      "execution_count": null,
      "id": "5999a8b7",
      "metadata": {
        "scrolled": true,
        "id": "5999a8b7"
      },
      "outputs": [],
      "source": [
        "# best_test_run_id = \"8ohaf75c\"\n",
        "test_run_id = \"8ohaf75c\"\n",
        "api = wandb.Api()\n",
        "run = api.run(\"dlstack/CS6910-ASSIGNMENT-2/\"+test_run_id)\n",
        "if os.path.exists('model-best.h5'):\n",
        "    os.remove('model-best.h5')\n",
        "model_weights = wandb.restore(\"model-best.h5\",run_path=\"dlstack/CS6910-ASSIGNMENT-2/\"+test_run_id)\n",
        "config = run.config\n",
        "\n",
        "model = CNN(config)\n",
        "model.load_weights(model_weights.name)\n",
        "\n",
        "model.compile(\n",
        "    optimizer=optimizers.Adam(learning_rate=config[\"learning_rate\"]),\n",
        "    loss=tf.losses.SparseCategoricalCrossentropy(from_logits=True),\n",
        "    metrics=['accuracy']\n",
        "    )\n",
        "test_generator = ImageDataGenerator(dtype=tf.float32,validation_split=0.0,data_format='channels_last').flow_from_directory(\n",
        "        'inaturalist_12K/val',\n",
        "        target_size = image_size,\n",
        "        batch_size = config['batch_size'],\n",
        "        color_mode = 'rgb',\n",
        "        class_mode = 'sparse',\n",
        "        seed=123\n",
        "        )\n",
        "test_loss,test_acc = model.evaluate(test_generator)\n",
        "print(f\"Test Accuracy : {test_acc} Test loss : {test_loss}\")"
      ]
    },
    {
      "cell_type": "code",
      "execution_count": null,
      "id": "a61f21cb",
      "metadata": {
        "id": "a61f21cb"
      },
      "outputs": [],
      "source": [
        "class_names =list(test_generator.class_indices)\n",
        "# images,labels = next(iter(test_generator))\n",
        "# pred_labels = tf.argmax(model.predict(images),1)\n",
        "# np.sum((labels.astype('int') == pred_labels)) #print number of correct labels\n",
        "test_generator_ = test_generator"
      ]
    },
    {
      "cell_type": "code",
      "execution_count": null,
      "id": "97106985",
      "metadata": {
        "id": "97106985"
      },
      "outputs": [],
      "source": [
        "max_num_correct=0\n",
        "for images,labels in test_generator_:\n",
        "    pred_labels = tf.argmax(model.predict(images),1)\n",
        "    num_correct = np.sum((labels.astype('int')[:30] == pred_labels[:30]))\n",
        "    print(num_correct)\n",
        "    if num_correct > max_num_correct:\n",
        "        max_num_correct = num_correct\n",
        "        best_images = images\n",
        "        best_labels = labels\n",
        "        best_pred_labels = pred_labels\n",
        "    if(max_num_correct >= 17):\n",
        "        break"
      ]
    },
    {
      "cell_type": "code",
      "execution_count": null,
      "id": "00c965fd",
      "metadata": {
        "id": "00c965fd"
      },
      "outputs": [],
      "source": [
        "images,labels,pred_labels = best_images,best_labels,best_pred_labels"
      ]
    },
    {
      "cell_type": "code",
      "execution_count": null,
      "id": "a1e7a301",
      "metadata": {
        "id": "a1e7a301"
      },
      "outputs": [],
      "source": [
        "wandb.init(project=\"CS6910-ASSIGNMENT-2\",entity=\"dlstack\")\n",
        "idx=0\n",
        "fig = plt.figure(figsize=(60,60))\n",
        "# fig.tight_layout()\n",
        "g = gridspec.GridSpec(10,3,wspace=0.1,left=0.7,right=0.9)\n",
        "for i in range(10):\n",
        "    for j in range(3):\n",
        "        ax = plt.subplot(g[i,j])\n",
        "        ax.imshow(images[idx].astype(\"uint8\"))\n",
        "        title = f\"True label : {class_names[labels[idx].astype('int')]}\\nPredicted label : {class_names[pred_labels[idx]]}\"\n",
        "        ax.set_title(title)\n",
        "        ax.axis(\"off\")\n",
        "        idx += 1\n",
        "plt.savefig(\"test_image_37percent.jpg\",bbox_inches=\"tight\")\n",
        "wandb.run.name= \"image-test-37-1\"\n",
        "wandb.log({\"test_image_accuracy_over_30_images\":wandb.Image(\"test_image_37percent.jpg\")})\n",
        "wandb.finish()"
      ]
    },
    {
      "cell_type": "code",
      "execution_count": null,
      "id": "92a15725",
      "metadata": {
        "id": "92a15725"
      },
      "outputs": [],
      "source": [
        "# biases_conv1 = model.layers[1].weights[1].numpy()\n",
        "# weights_conv2 = model.layers[1].weights[0].numpy()"
      ]
    },
    {
      "cell_type": "code",
      "execution_count": null,
      "id": "d719ac6b",
      "metadata": {
        "id": "d719ac6b"
      },
      "outputs": [],
      "source": [
        "wandb.init(project=\"CS6910-ASSIGNMENT-2\",entity=\"dlstack\")\n",
        "test_generator_ = test_generator\n",
        "images,labels = next(iter(test_generator_))\n",
        "rand_indx = random.randint(0,32)\n",
        "random_image = images[rand_indx].astype(\"uint8\")\n",
        "random_image_label = labels[rand_indx].astype(\"int\")\n",
        "filters = model.layers[1].call(images).numpy()[rand_indx]\n",
        "plt.figure(figsize=(10,10))\n",
        "plt.imshow(random_image)\n",
        "plt.axis(\"off\")\n",
        "plt.title(\"Random image label : \"+str(class_names[random_image_label]))\n",
        "plt.savefig(\"random_image_best_model.jpg\",bbox_inches=\"tight\")\n",
        "\n",
        "idx=0\n",
        "fig = plt.figure(figsize=(60,60))\n",
        "# fig.tight_layout()\n",
        "g = gridspec.GridSpec(4,8,wspace=0.1,left=0.7,right=0.9,top=0.7,bottom=0.6)\n",
        "for i in range(4):\n",
        "    for j in range(8):\n",
        "        ax = plt.subplot(g[i,j])\n",
        "        ax.imshow(filters[:,:,idx].astype(\"uint8\"))\n",
        "        title = \"filter : \"+str(idx+1)\n",
        "        ax.set_title(title)\n",
        "        ax.axis(\"off\")\n",
        "        idx += 1\n",
        "plt.savefig(\"random_image_best_model_filters.jpg\",bbox_inches=\"tight\")\n",
        "\n",
        "wandb.run.name = \"ran_img_best_model_filters\"\n",
        "wandb.log({\"Random Image best model : \":wandb.Image(\"random_image_best_model.jpg\")})\n",
        "wandb.log({\"Random Image best model filters: \":wandb.Image(\"random_image_best_model_filters.jpg\")})\n",
        "wandb.finish()"
      ]
    },
    {
      "cell_type": "code",
      "execution_count": null,
      "id": "c86c317b",
      "metadata": {
        "id": "c86c317b"
      },
      "outputs": [],
      "source": [
        "# plt.imshow(model.layers[1].apply(images).numpy()[rand_indx][:,:,0].astype(\"uint8\"))"
      ]
    },
    {
      "cell_type": "code",
      "execution_count": null,
      "id": "bd4af834",
      "metadata": {
        "id": "bd4af834"
      },
      "outputs": [],
      "source": [
        "config"
      ]
    }
  ],
  "metadata": {
    "kernelspec": {
      "display_name": "Python 3 (ipykernel)",
      "language": "python",
      "name": "python3"
    },
    "language_info": {
      "codemirror_mode": {
        "name": "ipython",
        "version": 3
      },
      "file_extension": ".py",
      "mimetype": "text/x-python",
      "name": "python",
      "nbconvert_exporter": "python",
      "pygments_lexer": "ipython3",
      "version": "3.8.12"
    },
    "colab": {
      "name": "cs6910_assignment2_partA_question4.ipynb",
      "provenance": []
    }
  },
  "nbformat": 4,
  "nbformat_minor": 5
}